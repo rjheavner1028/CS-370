{
 "cells": [
  {
   "cell_type": "markdown",
   "metadata": {},
   "source": [
    "# Treasure Hunt Game Notebook\n",
    "\n",
    "## Read and Review Your Starter Code\n",
    "The theme of this project is a popular treasure hunt game in which the player needs to find the treasure before the pirate does. While you will not be developing the entire game, you will write the part of the game that represents the intelligent agent, which is a pirate in this case. The pirate will try to find the optimal path to the treasure using deep Q-learning. \n",
    "\n",
    "You have been provided with two Python classes and this notebook to help you with this assignment. The first class, TreasureMaze.py, represents the environment, which includes a maze object defined as a matrix. The second class, GameExperience.py, stores the episodes – that is, all the states that come in between the initial state and the terminal state. This is later used by the agent for learning by experience, called \"exploration\". This notebook shows how to play a game. Your task is to complete the deep Q-learning implementation for which a skeleton implementation has been provided. The code blocks you will need to complete has #TODO as a header.\n",
    "\n",
    "First, read and review the next few code and instruction blocks to understand the code that you have been given."
   ]
  },
  {
   "cell_type": "code",
   "execution_count": 1,
   "metadata": {},
   "outputs": [
    {
     "name": "stderr",
     "output_type": "stream",
     "text": [
      "Using TensorFlow backend.\n"
     ]
    }
   ],
   "source": [
    "from __future__ import print_function\n",
    "import os, sys, time, datetime, json, random\n",
    "import numpy as np\n",
    "from keras.models import Sequential\n",
    "from keras.layers.core import Dense, Activation\n",
    "from keras.optimizers import SGD , Adam, RMSprop\n",
    "from keras.layers.advanced_activations import PReLU\n",
    "import matplotlib.pyplot as plt\n",
    "from TreasureMaze import TreasureMaze\n",
    "from GameExperience import GameExperience\n",
    "%matplotlib inline"
   ]
  },
  {
   "cell_type": "markdown",
   "metadata": {},
   "source": [
    "The following code block contains an 8x8 matrix that will be used as a maze object:"
   ]
  },
  {
   "cell_type": "code",
   "execution_count": 2,
   "metadata": {},
   "outputs": [],
   "source": [
    "maze = np.array([\n",
    "    [ 1.,  0.,  1.,  1.,  1.,  1.,  1.,  1.],\n",
    "    [ 1.,  0.,  1.,  1.,  1.,  0.,  1.,  1.],\n",
    "    [ 1.,  1.,  1.,  1.,  0.,  1.,  0.,  1.],\n",
    "    [ 1.,  1.,  1.,  0.,  1.,  1.,  1.,  1.],\n",
    "    [ 1.,  1.,  0.,  1.,  1.,  1.,  1.,  1.],\n",
    "    [ 1.,  1.,  1.,  0.,  1.,  0.,  0.,  0.],\n",
    "    [ 1.,  1.,  1.,  0.,  1.,  1.,  1.,  1.],\n",
    "    [ 1.,  1.,  1.,  1.,  0.,  1.,  1.,  1.]\n",
    "])"
   ]
  },
  {
   "cell_type": "markdown",
   "metadata": {},
   "source": [
    "This helper function allows a visual representation of the maze object:"
   ]
  },
  {
   "cell_type": "code",
   "execution_count": 3,
   "metadata": {},
   "outputs": [],
   "source": [
    "def show(qmaze):\n",
    "    plt.grid('on')\n",
    "    nrows, ncols = qmaze.maze.shape\n",
    "    ax = plt.gca()\n",
    "    ax.set_xticks(np.arange(0.5, nrows, 1))\n",
    "    ax.set_yticks(np.arange(0.5, ncols, 1))\n",
    "    ax.set_xticklabels([])\n",
    "    ax.set_yticklabels([])\n",
    "    canvas = np.copy(qmaze.maze)\n",
    "    for row,col in qmaze.visited:\n",
    "        canvas[row,col] = 0.6\n",
    "    pirate_row, pirate_col, _ = qmaze.state\n",
    "    canvas[pirate_row, pirate_col] = 0.3   # pirate cell\n",
    "    canvas[nrows-1, ncols-1] = 0.9 # treasure cell\n",
    "    img = plt.imshow(canvas, interpolation='none', cmap='gray')\n",
    "    return img"
   ]
  },
  {
   "cell_type": "markdown",
   "metadata": {},
   "source": [
    "The pirate agent can move in four directions: left, right, up, and down. \n",
    "\n",
    "While the agent primarily learns by experience through exploitation, often, the agent can choose to explore the environment to find previously undiscovered paths. This is called \"exploration\" and is defined by epsilon. This value is typically a lower value such as 0.1, which means for every ten attempts, the agent will attempt to learn by experience nine times and will randomly explore a new path one time. You are encouraged to try various values for the exploration factor and see how the algorithm performs."
   ]
  },
  {
   "cell_type": "code",
   "execution_count": 4,
   "metadata": {},
   "outputs": [],
   "source": [
    "LEFT = 0\n",
    "UP = 1\n",
    "RIGHT = 2\n",
    "DOWN = 3\n",
    "\n",
    "\n",
    "# Exploration factor\n",
    "epsilon = 0.05\n",
    "\n",
    "# Actions dictionary\n",
    "actions_dict = {\n",
    "    LEFT: 'left',\n",
    "    UP: 'up',\n",
    "    RIGHT: 'right',\n",
    "    DOWN: 'down',\n",
    "}\n",
    "\n",
    "num_actions = len(actions_dict)\n"
   ]
  },
  {
   "cell_type": "markdown",
   "metadata": {},
   "source": [
    "The sample code block and output below show creating a maze object and performing one action (DOWN), which returns the reward. The resulting updated environment is visualized."
   ]
  },
  {
   "cell_type": "code",
   "execution_count": 5,
   "metadata": {},
   "outputs": [
    {
     "name": "stdout",
     "output_type": "stream",
     "text": [
      "reward= -0.04\n"
     ]
    },
    {
     "data": {
      "text/plain": [
       "<matplotlib.image.AxesImage at 0x22c88c63a08>"
      ]
     },
     "execution_count": 5,
     "metadata": {},
     "output_type": "execute_result"
    },
    {
     "data": {
      "image/png": "[encoded data removed]",
      "text/plain": [
       "<Figure size 432x288 with 1 Axes>"
      ]
     },
     "metadata": {
      "needs_background": "light"
     },
     "output_type": "display_data"
    }
   ],
   "source": [
    "qmaze = TreasureMaze(maze)\n",
    "canvas, reward, game_over = qmaze.act(DOWN)\n",
    "print(\"reward=\", reward)\n",
    "show(qmaze)"
   ]
  },
  {
   "cell_type": "markdown",
   "metadata": {},
   "source": [
    "This function simulates a full game based on the provided trained model. The other parameters include the TreasureMaze object and the starting position of the pirate."
   ]
  },
  {
   "cell_type": "code",
   "execution_count": 6,
   "metadata": {},
   "outputs": [],
   "source": [
    "def play_game(model, qmaze, pirate_cell):\n",
    "    qmaze.reset(pirate_cell)\n",
    "    envstate = qmaze.observe()\n",
    "    while True:\n",
    "        prev_envstate = envstate\n",
    "        # get next action\n",
    "        q = model.predict(prev_envstate)\n",
    "        action = np.argmax(q[0])\n",
    "\n",
    "        # apply action, get rewards and new state\n",
    "        envstate, reward, game_status = qmaze.act(action)\n",
    "        if game_status == 'win':\n",
    "            return True\n",
    "        elif game_status == 'lose':\n",
    "            return False"
   ]
  },
  {
   "cell_type": "markdown",
   "metadata": {},
   "source": [
    "This function helps you to determine whether the pirate can win any game at all. If your maze is not well designed, the pirate may not win any game at all. In this case, your training would not yield any result. The provided maze in this notebook ensures that there is a path to win and you can run this method to check."
   ]
  },
  {
   "cell_type": "code",
   "execution_count": 7,
   "metadata": {},
   "outputs": [],
   "source": [
    "def completion_check(model, qmaze):\n",
    "    for cell in qmaze.free_cells:\n",
    "        if not qmaze.valid_actions(cell):\n",
    "            return False\n",
    "        if not play_game(model, qmaze, cell):\n",
    "            return False\n",
    "    return True"
   ]
  },
  {
   "cell_type": "markdown",
   "metadata": {},
   "source": [
    "The code you have been given in this block will build the neural network model. Review the code and note the number of layers, as well as the activation, optimizer, and loss functions that are used to train the model."
   ]
  },
  {
   "cell_type": "code",
   "execution_count": 8,
   "metadata": {},
   "outputs": [],
   "source": [
    "def build_model(maze):\n",
    "    model = Sequential()\n",
    "    model.add(Dense(maze.size, input_shape=(maze.size,)))\n",
    "    model.add(PReLU())\n",
    "    model.add(Dense(maze.size))\n",
    "    model.add(PReLU())\n",
    "    model.add(Dense(num_actions))\n",
    "    model.compile(optimizer='adam', loss='mse')\n",
    "    return model"
   ]
  },
  {
   "cell_type": "markdown",
   "metadata": {},
   "source": [
    "# #TODO: Complete the Q-Training Algorithm Code Block\n",
    "\n",
    "This is your deep Q-learning implementation. The goal of your deep Q-learning implementation is to find the best possible navigation sequence that results in reaching the treasure cell while maximizing the reward. In your implementation, you need to determine the optimal number of epochs to achieve a 100% win rate.\n",
    "\n",
    "You will need to complete the section starting with #pseudocode. The pseudocode has been included for you."
   ]
  },
  {
   "cell_type": "code",
   "execution_count": 9,
   "metadata": {},
   "outputs": [],
   "source": [
    "def qtrain(model, maze, **opt):\n",
    "    # Exploration factor\n",
    "    global epsilon\n",
    "    epsilon = 0.05  # Initial exploration rate\n",
    "\n",
    "    # Number of epochs\n",
    "    n_epoch = opt.get('n_epoch', 100)\n",
    "\n",
    "    # Maximum memory to store episodes\n",
    "    max_memory = opt.get('max_memory', 2000)\n",
    "\n",
    "    # Maximum data size for training\n",
    "    data_size = opt.get('data_size', 75)\n",
    "\n",
    "    # Start time\n",
    "    start_time = datetime.datetime.now()\n",
    "\n",
    "    # Construct environment/game from numpy array: maze\n",
    "    qmaze = TreasureMaze(maze)\n",
    "\n",
    "    # Initialize experience replay object\n",
    "    experience = GameExperience(model, max_memory=max_memory)\n",
    "    \n",
    "    win_history = []   # History of win/lose game\n",
    "    hsize = qmaze.maze.size // 2   # History window size\n",
    "    win_rate = 0.0\n",
    "    \n",
    "    # pseudocode:\n",
    "    # For each epoch:\n",
    "    for epoch in range(n_epoch):\n",
    "        loss = 0.0  # Initialize loss for the current epoch\n",
    "\n",
    "        # Agent_cell = randomly select a free cell\n",
    "        agent_cell = qmaze.free_cells[np.random.choice(len(qmaze.free_cells))]  # Randomly select a free cell\n",
    "\n",
    "        # Reset the maze with agent set to above position\n",
    "        # Hint: Review the reset method in the TreasureMaze.py class.\n",
    "        qmaze.reset(agent_cell)  # Reset the maze with the agent in the selected position\n",
    "\n",
    "        # envstate = Environment.current_state\n",
    "        # Hint: Review the observe method in the TreasureMaze.py class.\n",
    "        env_state = qmaze.observe()  # Get the initial state of the environment\n",
    "        \n",
    "        game_over = False  # Initialize the game_over flag\n",
    "        n_episodes = 0  # Track the number of episodes\n",
    "\n",
    "        # While state is not game over:\n",
    "        while not game_over:\n",
    "            n_episodes += 1\n",
    "\n",
    "            # previous_envstate = envstate\n",
    "            previous_env_state = env_state\n",
    "\n",
    "            # Action = randomly choose action (left, right, up, down) either by exploration or by exploitation\n",
    "            if np.random.rand() <= epsilon:\n",
    "                action = np.random.choice(qmaze.valid_actions())  # Exploration: Random action\n",
    "            else:\n",
    "                q_values = experience.predict(previous_env_state)\n",
    "                action = np.argmax(q_values)  # Exploitation: Best action based on Q-values\n",
    "\n",
    "            # envstate, reward, game_status = qmaze.act(action)\n",
    "            # Hint: Review the act method in the TreasureMaze.py class.\n",
    "            env_state, reward, game_status = qmaze.act(action)  # Perform the action\n",
    "            game_over = game_status in ['win', 'lose']  # Check if the game is over\n",
    "\n",
    "            # episode = [previous_envstate, action, reward, envstate, game_status]\n",
    "            episode = [previous_env_state, action, reward, env_state, game_over]\n",
    "\n",
    "            # Store episode in Experience replay object\n",
    "            # Hint: Review the remember method in the GameExperience.py class.\n",
    "            experience.remember(episode)  # Store the episode in memory\n",
    "\n",
    "            # Train neural network model and evaluate loss\n",
    "            # Hint: Call GameExperience.get_data to retrieve training data (input and target) and pass to model.fit method \n",
    "            #       to train the model. You can call model.evaluate to determine loss.\n",
    "            inputs, targets = experience.get_data(data_size)\n",
    "            history = model.fit(inputs, targets, epochs=1, verbose=0)\n",
    "            loss += history.history['loss'][0]\n",
    "\n",
    "        # Update win history\n",
    "        win_history.append(1 if game_status == 'win' else 0)\n",
    "        if len(win_history) > hsize:\n",
    "            win_history.pop(0)\n",
    "        win_rate = sum(win_history) / len(win_history)\n",
    "\n",
    "        # Print the epoch, loss, episodes, win count, and win rate for each epoch\n",
    "        dt = datetime.datetime.now() - start_time\n",
    "        print(f\"Epoch: {epoch + 1}/{n_epoch} | Loss: {loss:.4f} | Episodes: {n_episodes} | Win count: {sum(win_history)} | Win rate: {win_rate:.3f} | Time: {dt}\")\n",
    "\n",
    "        # If the win rate is above the threshold and your model passes the completion check, that would be your epoch.\n",
    "        if win_rate > 0.9:\n",
    "            epsilon = 0.05  # Reduce exploration once win rate is high\n",
    "        if sum(win_history[-hsize:]) == hsize and completion_check(model, qmaze):\n",
    "            print(\"Reached 100% win rate at epoch: %d\" % (epoch,))\n",
    "            break\n",
    "\n",
    "    # Determine the total time for training\n",
    "    dt = datetime.datetime.now() - start_time\n",
    "    print(f\"Total training time: {dt}\")\n",
    "    print(f\"n_epoch: {epoch + 1}, max_mem: {max_memory}, data: {data_size}\")\n",
    "    return dt.total_seconds()\n"
   ]
  },
  {
   "cell_type": "markdown",
   "metadata": {},
   "source": [
    "## Test Your Model\n",
    "\n",
    "Now we will start testing the deep Q-learning implementation. To begin, select **Cell**, then **Run All** from the menu bar. This will run your notebook. As it runs, you should see output begin to appear beneath the next few cells. The code below creates an instance of TreasureMaze."
   ]
  },
  {
   "cell_type": "code",
   "execution_count": 10,
   "metadata": {},
   "outputs": [
    {
     "data": {
      "text/plain": [
       "<matplotlib.image.AxesImage at 0x22c88d1e948>"
      ]
     },
     "execution_count": 10,
     "metadata": {},
     "output_type": "execute_result"
    },
    {
     "data": {
      "image/png": "[encoded data removed]",
      "text/plain": [
       "<Figure size 432x288 with 1 Axes>"
      ]
     },
     "metadata": {
      "needs_background": "light"
     },
     "output_type": "display_data"
    }
   ],
   "source": [
    "qmaze = TreasureMaze(maze)\n",
    "show(qmaze)"
   ]
  },
  {
   "cell_type": "markdown",
   "metadata": {},
   "source": [
    "In the next code block, you will build your model and train it using deep Q-learning. Note: This step takes several minutes to fully run."
   ]
  },
  {
   "cell_type": "code",
   "execution_count": 11,
   "metadata": {},
   "outputs": [
    {
     "name": "stdout",
     "output_type": "stream",
     "text": [
      "Epoch: 1/100 | Loss: 0.1135 | Episodes: 13 | Win count: 1 | Win rate: 1.000 | Time: 0:00:02.510061\n",
      "Epoch: 2/100 | Loss: 0.1978 | Episodes: 12 | Win count: 2 | Win rate: 1.000 | Time: 0:00:03.284754\n",
      "Epoch: 3/100 | Loss: 4.0701 | Episodes: 144 | Win count: 2 | Win rate: 0.667 | Time: 0:00:23.922839\n",
      "Epoch: 4/100 | Loss: 0.5873 | Episodes: 29 | Win count: 3 | Win rate: 0.750 | Time: 0:00:28.639514\n",
      "Epoch: 5/100 | Loss: 4.0417 | Episodes: 135 | Win count: 3 | Win rate: 0.600 | Time: 0:00:48.495282\n",
      "Epoch: 6/100 | Loss: 3.6329 | Episodes: 134 | Win count: 3 | Win rate: 0.500 | Time: 0:01:08.576819\n",
      "Epoch: 7/100 | Loss: 3.0189 | Episodes: 144 | Win count: 3 | Win rate: 0.429 | Time: 0:01:30.973315\n",
      "Epoch: 8/100 | Loss: 0.1733 | Episodes: 6 | Win count: 4 | Win rate: 0.500 | Time: 0:01:31.953784\n",
      "Epoch: 9/100 | Loss: 3.2484 | Episodes: 144 | Win count: 4 | Win rate: 0.444 | Time: 0:01:53.174943\n",
      "Epoch: 10/100 | Loss: 0.0228 | Episodes: 5 | Win count: 5 | Win rate: 0.500 | Time: 0:01:53.809997\n",
      "Epoch: 11/100 | Loss: 2.3188 | Episodes: 90 | Win count: 6 | Win rate: 0.545 | Time: 0:02:06.634091\n",
      "Epoch: 12/100 | Loss: 3.1651 | Episodes: 140 | Win count: 6 | Win rate: 0.500 | Time: 0:02:29.511325\n",
      "Epoch: 13/100 | Loss: 0.0406 | Episodes: 4 | Win count: 7 | Win rate: 0.538 | Time: 0:02:30.272626\n",
      "Epoch: 14/100 | Loss: 3.3054 | Episodes: 141 | Win count: 7 | Win rate: 0.500 | Time: 0:02:53.504564\n",
      "Epoch: 15/100 | Loss: 0.0081 | Episodes: 2 | Win count: 8 | Win rate: 0.533 | Time: 0:02:53.850887\n",
      "Epoch: 16/100 | Loss: 2.5914 | Episodes: 143 | Win count: 8 | Win rate: 0.500 | Time: 0:03:15.803485\n",
      "Epoch: 17/100 | Loss: 0.0020 | Episodes: 1 | Win count: 9 | Win rate: 0.529 | Time: 0:03:16.023885\n",
      "Epoch: 18/100 | Loss: 0.1886 | Episodes: 12 | Win count: 10 | Win rate: 0.556 | Time: 0:03:17.834008\n",
      "Epoch: 19/100 | Loss: 3.0152 | Episodes: 139 | Win count: 10 | Win rate: 0.526 | Time: 0:03:38.311271\n",
      "Epoch: 20/100 | Loss: 2.3348 | Episodes: 135 | Win count: 10 | Win rate: 0.500 | Time: 0:03:57.951634\n",
      "Epoch: 21/100 | Loss: 0.3221 | Episodes: 20 | Win count: 11 | Win rate: 0.524 | Time: 0:04:00.628106\n",
      "Epoch: 22/100 | Loss: 3.2305 | Episodes: 143 | Win count: 11 | Win rate: 0.500 | Time: 0:04:22.811934\n",
      "Epoch: 23/100 | Loss: 0.1733 | Episodes: 2 | Win count: 12 | Win rate: 0.522 | Time: 0:04:23.089861\n",
      "Epoch: 24/100 | Loss: 0.1641 | Episodes: 5 | Win count: 13 | Win rate: 0.542 | Time: 0:04:23.720331\n",
      "Epoch: 25/100 | Loss: 3.4343 | Episodes: 146 | Win count: 13 | Win rate: 0.520 | Time: 0:04:46.854824\n",
      "Epoch: 26/100 | Loss: 5.3981 | Episodes: 150 | Win count: 13 | Win rate: 0.500 | Time: 0:05:08.871811\n",
      "Epoch: 27/100 | Loss: 2.6679 | Episodes: 143 | Win count: 13 | Win rate: 0.481 | Time: 0:05:30.355528\n",
      "Epoch: 28/100 | Loss: 2.4509 | Episodes: 135 | Win count: 13 | Win rate: 0.464 | Time: 0:05:50.424692\n",
      "Epoch: 29/100 | Loss: 0.2826 | Episodes: 2 | Win count: 14 | Win rate: 0.483 | Time: 0:05:50.704676\n",
      "Epoch: 30/100 | Loss: 2.5556 | Episodes: 146 | Win count: 14 | Win rate: 0.467 | Time: 0:06:12.469920\n",
      "Epoch: 31/100 | Loss: 0.1057 | Episodes: 2 | Win count: 15 | Win rate: 0.484 | Time: 0:06:12.667920\n",
      "Epoch: 32/100 | Loss: 3.4561 | Episodes: 145 | Win count: 15 | Win rate: 0.469 | Time: 0:06:33.772123\n",
      "Epoch: 33/100 | Loss: 2.4883 | Episodes: 140 | Win count: 14 | Win rate: 0.438 | Time: 0:06:54.676149\n",
      "Epoch: 34/100 | Loss: 3.0089 | Episodes: 139 | Win count: 13 | Win rate: 0.406 | Time: 0:07:16.479905\n",
      "Epoch: 35/100 | Loss: 2.1946 | Episodes: 135 | Win count: 13 | Win rate: 0.406 | Time: 0:07:39.674131\n",
      "Epoch: 36/100 | Loss: 3.0148 | Episodes: 151 | Win count: 12 | Win rate: 0.375 | Time: 0:08:03.451156\n",
      "Epoch: 37/100 | Loss: 2.3018 | Episodes: 139 | Win count: 12 | Win rate: 0.375 | Time: 0:08:24.329540\n",
      "Epoch: 38/100 | Loss: 2.3715 | Episodes: 139 | Win count: 12 | Win rate: 0.375 | Time: 0:08:45.085419\n",
      "Epoch: 39/100 | Loss: 2.1085 | Episodes: 148 | Win count: 12 | Win rate: 0.375 | Time: 0:09:08.134652\n",
      "Epoch: 40/100 | Loss: 2.3414 | Episodes: 142 | Win count: 11 | Win rate: 0.344 | Time: 0:09:28.793739\n",
      "Epoch: 41/100 | Loss: 2.1904 | Episodes: 144 | Win count: 11 | Win rate: 0.344 | Time: 0:09:50.883290\n",
      "Epoch: 42/100 | Loss: 2.0548 | Episodes: 145 | Win count: 10 | Win rate: 0.312 | Time: 0:10:13.751710\n",
      "Epoch: 43/100 | Loss: 0.0063 | Episodes: 3 | Win count: 10 | Win rate: 0.312 | Time: 0:10:14.155645\n",
      "Epoch: 44/100 | Loss: 2.8449 | Episodes: 138 | Win count: 10 | Win rate: 0.312 | Time: 0:10:35.438926\n",
      "Epoch: 45/100 | Loss: 2.8734 | Episodes: 141 | Win count: 9 | Win rate: 0.281 | Time: 0:10:56.583088\n",
      "Epoch: 46/100 | Loss: 2.5222 | Episodes: 138 | Win count: 9 | Win rate: 0.281 | Time: 0:11:16.184660\n",
      "Epoch: 47/100 | Loss: 2.7163 | Episodes: 142 | Win count: 8 | Win rate: 0.250 | Time: 0:11:38.373950\n",
      "Epoch: 48/100 | Loss: 2.0273 | Episodes: 144 | Win count: 8 | Win rate: 0.250 | Time: 0:12:00.909912\n",
      "Epoch: 49/100 | Loss: 2.6911 | Episodes: 138 | Win count: 7 | Win rate: 0.219 | Time: 0:12:24.122432\n",
      "Epoch: 50/100 | Loss: 2.4830 | Episodes: 137 | Win count: 6 | Win rate: 0.188 | Time: 0:12:48.831728\n",
      "Epoch: 51/100 | Loss: 2.2832 | Episodes: 138 | Win count: 6 | Win rate: 0.188 | Time: 0:13:12.083796\n",
      "Epoch: 52/100 | Loss: 1.0220 | Episodes: 79 | Win count: 7 | Win rate: 0.219 | Time: 0:13:25.275053\n",
      "Epoch: 53/100 | Loss: 2.8551 | Episodes: 139 | Win count: 6 | Win rate: 0.188 | Time: 0:13:46.119238\n",
      "Epoch: 54/100 | Loss: 2.7837 | Episodes: 138 | Win count: 6 | Win rate: 0.188 | Time: 0:14:07.001228\n",
      "Epoch: 55/100 | Loss: 2.6017 | Episodes: 141 | Win count: 5 | Win rate: 0.156 | Time: 0:14:28.408767\n",
      "Epoch: 56/100 | Loss: 2.5474 | Episodes: 137 | Win count: 4 | Win rate: 0.125 | Time: 0:14:48.921212\n",
      "Epoch: 57/100 | Loss: 0.0790 | Episodes: 3 | Win count: 5 | Win rate: 0.156 | Time: 0:14:49.233539\n",
      "Epoch: 58/100 | Loss: 0.0017 | Episodes: 1 | Win count: 6 | Win rate: 0.188 | Time: 0:14:49.438852\n",
      "Epoch: 59/100 | Loss: 3.5529 | Episodes: 137 | Win count: 6 | Win rate: 0.188 | Time: 0:15:10.007992\n",
      "Epoch: 60/100 | Loss: 0.0027 | Episodes: 1 | Win count: 7 | Win rate: 0.219 | Time: 0:15:10.156645\n",
      "Epoch: 61/100 | Loss: 0.9361 | Episodes: 21 | Win count: 7 | Win rate: 0.219 | Time: 0:15:13.493461\n",
      "Epoch: 62/100 | Loss: 3.6276 | Episodes: 134 | Win count: 7 | Win rate: 0.219 | Time: 0:15:33.472584\n",
      "Epoch: 63/100 | Loss: 3.3781 | Episodes: 138 | Win count: 6 | Win rate: 0.188 | Time: 0:15:55.996362\n",
      "Epoch: 64/100 | Loss: 2.7435 | Episodes: 139 | Win count: 6 | Win rate: 0.188 | Time: 0:16:17.957321\n",
      "Epoch: 65/100 | Loss: 2.5995 | Episodes: 136 | Win count: 6 | Win rate: 0.188 | Time: 0:16:37.988167\n",
      "Epoch: 66/100 | Loss: 2.9620 | Episodes: 154 | Win count: 6 | Win rate: 0.188 | Time: 0:17:01.751417\n",
      "Epoch: 67/100 | Loss: 1.7034 | Episodes: 139 | Win count: 6 | Win rate: 0.188 | Time: 0:17:23.412870\n",
      "Epoch: 68/100 | Loss: 0.1931 | Episodes: 8 | Win count: 7 | Win rate: 0.219 | Time: 0:17:25.187658\n",
      "Epoch: 69/100 | Loss: 2.7103 | Episodes: 139 | Win count: 7 | Win rate: 0.219 | Time: 0:17:48.428218\n",
      "Epoch: 70/100 | Loss: 3.7483 | Episodes: 144 | Win count: 7 | Win rate: 0.219 | Time: 0:18:11.032819\n",
      "Epoch: 71/100 | Loss: 0.0016 | Episodes: 1 | Win count: 8 | Win rate: 0.250 | Time: 0:18:11.155283\n",
      "Epoch: 72/100 | Loss: 3.8298 | Episodes: 139 | Win count: 8 | Win rate: 0.250 | Time: 0:18:30.930555\n",
      "Epoch: 73/100 | Loss: 3.6369 | Episodes: 136 | Win count: 8 | Win rate: 0.250 | Time: 0:18:50.696994\n",
      "Epoch: 74/100 | Loss: 3.6967 | Episodes: 143 | Win count: 8 | Win rate: 0.250 | Time: 0:19:12.554788\n",
      "Epoch: 75/100 | Loss: 1.9687 | Episodes: 135 | Win count: 7 | Win rate: 0.219 | Time: 0:19:33.054532\n",
      "Epoch: 76/100 | Loss: 0.2100 | Episodes: 14 | Win count: 8 | Win rate: 0.250 | Time: 0:19:35.151439\n",
      "Epoch: 77/100 | Loss: 3.2702 | Episodes: 140 | Win count: 8 | Win rate: 0.250 | Time: 0:19:55.924804\n",
      "Epoch: 78/100 | Loss: 2.2390 | Episodes: 147 | Win count: 8 | Win rate: 0.250 | Time: 0:20:18.354325\n",
      "Epoch: 79/100 | Loss: 3.1376 | Episodes: 138 | Win count: 8 | Win rate: 0.250 | Time: 0:20:38.676415\n",
      "Epoch: 80/100 | Loss: 3.1539 | Episodes: 144 | Win count: 8 | Win rate: 0.250 | Time: 0:21:00.913805\n",
      "Epoch: 81/100 | Loss: 2.1274 | Episodes: 142 | Win count: 8 | Win rate: 0.250 | Time: 0:21:23.710649\n",
      "Epoch: 82/100 | Loss: 2.3159 | Episodes: 142 | Win count: 8 | Win rate: 0.250 | Time: 0:21:44.260034\n"
     ]
    },
    {
     "name": "stdout",
     "output_type": "stream",
     "text": [
      "Epoch: 83/100 | Loss: 2.7352 | Episodes: 152 | Win count: 8 | Win rate: 0.250 | Time: 0:22:08.366694\n",
      "Epoch: 84/100 | Loss: 0.1401 | Episodes: 21 | Win count: 8 | Win rate: 0.250 | Time: 0:22:11.895261\n",
      "Epoch: 85/100 | Loss: 0.7196 | Episodes: 23 | Win count: 9 | Win rate: 0.281 | Time: 0:22:15.464590\n",
      "Epoch: 86/100 | Loss: 0.0016 | Episodes: 1 | Win count: 10 | Win rate: 0.312 | Time: 0:22:15.528964\n",
      "Epoch: 87/100 | Loss: 2.4850 | Episodes: 143 | Win count: 10 | Win rate: 0.312 | Time: 0:22:40.271894\n",
      "Epoch: 88/100 | Loss: 3.5472 | Episodes: 139 | Win count: 10 | Win rate: 0.312 | Time: 0:23:04.702856\n",
      "Epoch: 89/100 | Loss: 3.2691 | Episodes: 143 | Win count: 9 | Win rate: 0.281 | Time: 0:23:27.316415\n",
      "Epoch: 90/100 | Loss: 2.6659 | Episodes: 152 | Win count: 8 | Win rate: 0.250 | Time: 0:23:46.508651\n",
      "Epoch: 91/100 | Loss: 2.0912 | Episodes: 142 | Win count: 8 | Win rate: 0.250 | Time: 0:24:00.648940\n",
      "Epoch: 92/100 | Loss: 0.4207 | Episodes: 21 | Win count: 8 | Win rate: 0.250 | Time: 0:24:02.948986\n",
      "Epoch: 93/100 | Loss: 2.6706 | Episodes: 140 | Win count: 7 | Win rate: 0.219 | Time: 0:24:16.687707\n",
      "Epoch: 94/100 | Loss: 1.6761 | Episodes: 74 | Win count: 8 | Win rate: 0.250 | Time: 0:24:24.233314\n",
      "Epoch: 95/100 | Loss: 2.8533 | Episodes: 139 | Win count: 8 | Win rate: 0.250 | Time: 0:24:43.169243\n",
      "Epoch: 96/100 | Loss: 2.4869 | Episodes: 139 | Win count: 8 | Win rate: 0.250 | Time: 0:25:05.006165\n",
      "Epoch: 97/100 | Loss: 2.4655 | Episodes: 137 | Win count: 8 | Win rate: 0.250 | Time: 0:25:25.176785\n",
      "Epoch: 98/100 | Loss: 2.7008 | Episodes: 143 | Win count: 8 | Win rate: 0.250 | Time: 0:25:48.269081\n",
      "Epoch: 99/100 | Loss: 1.5833 | Episodes: 139 | Win count: 8 | Win rate: 0.250 | Time: 0:26:08.955549\n",
      "Epoch: 100/100 | Loss: 2.2114 | Episodes: 143 | Win count: 7 | Win rate: 0.219 | Time: 0:26:30.725113\n",
      "Total training time: 0:26:30.725616\n",
      "n_epoch: 100, max_mem: 512, data: 32\n"
     ]
    },
    {
     "data": {
      "text/plain": [
       "1590.725616"
      ]
     },
     "execution_count": 11,
     "metadata": {},
     "output_type": "execute_result"
    }
   ],
   "source": [
    "model = build_model(maze)\n",
    "qtrain(model, maze, epochs=1000, max_memory=8*maze.size, data_size=32)"
   ]
  },
  {
   "cell_type": "markdown",
   "metadata": {},
   "source": [
    "This cell will check to see if the model passes the completion check. Note: This could take several minutes."
   ]
  },
  {
   "cell_type": "code",
   "execution_count": 12,
   "metadata": {},
   "outputs": [
    {
     "data": {
      "text/plain": [
       "<matplotlib.image.AxesImage at 0x22c9081bbc8>"
      ]
     },
     "execution_count": 12,
     "metadata": {},
     "output_type": "execute_result"
    },
    {
     "data": {
      "image/png": "[encoded data removed]",
      "text/plain": [
       "<Figure size 432x288 with 1 Axes>"
      ]
     },
     "metadata": {
      "needs_background": "light"
     },
     "output_type": "display_data"
    }
   ],
   "source": [
    "completion_check(model, qmaze)\n",
    "show(qmaze)"
   ]
  },
  {
   "cell_type": "markdown",
   "metadata": {},
   "source": [
    "This cell will test your model for one game. It will start the pirate at the top-left corner and run play_game. The agent should find a path from the starting position to the target (treasure). The treasure is located in the bottom-right corner."
   ]
  },
  {
   "cell_type": "code",
   "execution_count": 13,
   "metadata": {},
   "outputs": [
    {
     "data": {
      "text/plain": [
       "<matplotlib.image.AxesImage at 0x22c88d35208>"
      ]
     },
     "execution_count": 13,
     "metadata": {},
     "output_type": "execute_result"
    },
    {
     "data": {
      "image/png": "[encoded data removed]",
      "text/plain": [
       "<Figure size 432x288 with 1 Axes>"
      ]
     },
     "metadata": {
      "needs_background": "light"
     },
     "output_type": "display_data"
    }
   ],
   "source": [
    "pirate_start = (0, 0)\n",
    "play_game(model, qmaze, pirate_start)\n",
    "show(qmaze)"
   ]
  },
  {
   "cell_type": "markdown",
   "metadata": {},
   "source": [
    "## Save and Submit Your Work\n",
    "After you have finished creating the code for your notebook, save your work. Make sure that your notebook contains your name in the filename (e.g. Doe_Jane_ProjectTwo.ipynb). This will help your instructor access and grade your work easily. Download a copy of your IPYNB file and submit it to Brightspace. Refer to the Jupyter Notebook in Apporto Tutorial if you need help with these tasks."
   ]
  }
 ],
 "metadata": {
  "kernelspec": {
   "display_name": "Python 3",
   "language": "python",
   "name": "python3"
  },
  "language_info": {
   "codemirror_mode": {
    "name": "ipython",
    "version": 3
   },
   "file_extension": ".py",
   "mimetype": "text/x-python",
   "name": "python",
   "nbconvert_exporter": "python",
   "pygments_lexer": "ipython3",
   "version": "3.7.4"
  }
 },
 "nbformat": 4,
 "nbformat_minor": 2
}
